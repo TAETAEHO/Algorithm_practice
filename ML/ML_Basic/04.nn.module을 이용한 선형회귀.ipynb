{
 "cells": [
  {
   "cell_type": "code",
   "execution_count": 6,
   "metadata": {},
   "outputs": [
    {
     "data": {
      "text/plain": [
       "<torch._C.Generator at 0x10688b2f0>"
      ]
     },
     "execution_count": 6,
     "metadata": {},
     "output_type": "execute_result"
    }
   ],
   "source": [
    "import torch\n",
    "import torch.nn as nn\n",
    "import torch.nn.functional as F\n",
    "\n",
    "torch.manual_seed(1)"
   ]
  },
  {
   "cell_type": "code",
   "execution_count": 7,
   "metadata": {},
   "outputs": [],
   "source": [
    "# y = 2x\n",
    "# w = 2, b = 0\n",
    "x_train = torch.FloatTensor([[1], [2], [3]])\n",
    "y_train = torch.FloatTensor([[2], [4], [6]])"
   ]
  },
  {
   "cell_type": "code",
   "execution_count": 8,
   "metadata": {},
   "outputs": [],
   "source": [
    "# 모델 선언 및 초기화, simple linear regression이므로 input_dim = 1, output_dim = 1\n",
    "model = nn.Linear(1, 1)"
   ]
  },
  {
   "cell_type": "code",
   "execution_count": 9,
   "metadata": {},
   "outputs": [
    {
     "name": "stdout",
     "output_type": "stream",
     "text": [
      "[Parameter containing:\n",
      "tensor([[0.5153]], requires_grad=True), Parameter containing:\n",
      "tensor([-0.4414], requires_grad=True)]\n"
     ]
    }
   ],
   "source": [
    "print(list(model.parameters()))"
   ]
  },
  {
   "cell_type": "code",
   "execution_count": 10,
   "metadata": {},
   "outputs": [],
   "source": [
    "# optimizer 설정, SGD사용, learning rate = 0.01\n",
    "optimizer = torch.optim.SGD(model.parameters(), lr=0.01)"
   ]
  },
  {
   "cell_type": "code",
   "execution_count": 11,
   "metadata": {},
   "outputs": [
    {
     "name": "stdout",
     "output_type": "stream",
     "text": [
      "Epoch :    0/2000 Cost :  13.103541\n",
      "Epoch :  100/2000 Cost :  0.002791\n",
      "Epoch :  200/2000 Cost :  0.001724\n",
      "Epoch :  300/2000 Cost :  0.001066\n",
      "Epoch :  400/2000 Cost :  0.000658\n",
      "Epoch :  500/2000 Cost :  0.000407\n",
      "Epoch :  600/2000 Cost :  0.000251\n",
      "Epoch :  700/2000 Cost :  0.000155\n",
      "Epoch :  800/2000 Cost :  0.000096\n",
      "Epoch :  900/2000 Cost :  0.000059\n",
      "Epoch :  1000/2000 Cost :  0.000037\n",
      "Epoch :  1100/2000 Cost :  0.000023\n",
      "Epoch :  1200/2000 Cost :  0.000014\n",
      "Epoch :  1300/2000 Cost :  0.000009\n",
      "Epoch :  1400/2000 Cost :  0.000005\n",
      "Epoch :  1500/2000 Cost :  0.000003\n",
      "Epoch :  1600/2000 Cost :  0.000002\n",
      "Epoch :  1700/2000 Cost :  0.000001\n",
      "Epoch :  1800/2000 Cost :  0.000001\n",
      "Epoch :  1900/2000 Cost :  0.000000\n",
      "Epoch :  2000/2000 Cost :  0.000000\n"
     ]
    }
   ],
   "source": [
    "nb_epochs = 2000\n",
    "for epoch in range(nb_epochs + 1):\n",
    "\n",
    "    # H(x) 계산\n",
    "    prediction = model(x_train)\n",
    "\n",
    "    cost = F.mse_loss(prediction, y_train) # MSE\n",
    "\n",
    "    optimizer.zero_grad()\n",
    "    cost.backward()\n",
    "    optimizer.step()\n",
    "\n",
    "    if epoch % 100 == 0:\n",
    "        print(f\"Epoch : {epoch : 4d}/{nb_epochs} Cost : {cost.item() : .6f}\")\n"
   ]
  },
  {
   "cell_type": "code",
   "execution_count": 12,
   "metadata": {},
   "outputs": [
    {
     "name": "stdout",
     "output_type": "stream",
     "text": [
      "훈련한 값 tensor([[7.9989]], grad_fn=<AddmmBackward0>)\n"
     ]
    }
   ],
   "source": [
    "new_var = torch.FloatTensor([[4.0]])\n",
    "pre_y = model(new_var)\n",
    "\n",
    "# y=2x이므로 입력이 4일 때 y가 8에 가까운 값이 나와야 제대로 학습된 것\n",
    "print('훈련한 값', pre_y)"
   ]
  },
  {
   "cell_type": "code",
   "execution_count": 13,
   "metadata": {},
   "outputs": [
    {
     "name": "stdout",
     "output_type": "stream",
     "text": [
      "[Parameter containing:\n",
      "tensor([[1.9994]], requires_grad=True), Parameter containing:\n",
      "tensor([0.0014], requires_grad=True)]\n"
     ]
    }
   ],
   "source": [
    "print(list(model.parameters())) # w는 2에 가깝고 b는 0에 가까움"
   ]
  },
  {
   "cell_type": "code",
   "execution_count": null,
   "metadata": {},
   "outputs": [],
   "source": []
  }
 ],
 "metadata": {
  "kernelspec": {
   "display_name": "ml_practice",
   "language": "python",
   "name": "python3"
  },
  "language_info": {
   "codemirror_mode": {
    "name": "ipython",
    "version": 3
   },
   "file_extension": ".py",
   "mimetype": "text/x-python",
   "name": "python",
   "nbconvert_exporter": "python",
   "pygments_lexer": "ipython3",
   "version": "3.11.5"
  }
 },
 "nbformat": 4,
 "nbformat_minor": 2
}
